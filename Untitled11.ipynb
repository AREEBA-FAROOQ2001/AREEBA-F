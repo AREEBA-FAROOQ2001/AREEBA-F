{
  "nbformat": 4,
  "nbformat_minor": 0,
  "metadata": {
    "colab": {
      "name": "Untitled11.ipynb",
      "provenance": [],
      "authorship_tag": "ABX9TyMkA1IdIt0uqA+LKU+39l9e",
      "include_colab_link": true
    },
    "kernelspec": {
      "name": "python3",
      "display_name": "Python 3"
    },
    "language_info": {
      "name": "python"
    }
  },
  "cells": [
    {
      "cell_type": "markdown",
      "metadata": {
        "id": "view-in-github",
        "colab_type": "text"
      },
      "source": [
        "<a href=\"https://colab.research.google.com/github/AREEBA-FAROOQ2001/AREEBA-F/blob/main/Untitled11.ipynb\" target=\"_parent\"><img src=\"https://colab.research.google.com/assets/colab-badge.svg\" alt=\"Open In Colab\"/></a>"
      ]
    },
    {
      "cell_type": "code",
      "metadata": {
        "id": "99dAkPaJQFtl"
      },
      "source": [
        "class Node:\n",
        "    def _init_(self, data):\n",
        "        self.data = data\n",
        "        self.next = None\n",
        "\n",
        "\n",
        "class LinkedList:\n",
        "    def _init_(self):\n",
        "        self.head = None\n",
        "\n",
        "    # Add new element at the end of the list\n",
        "    def push(self, newElement):\n",
        "        newNode = Node(newElement)\n",
        "        if (self.head == None):\n",
        "            self.head = newNode\n",
        "            return\n",
        "        else:\n",
        "            temp = self.head\n",
        "            while (temp.next != None):\n",
        "                temp = temp.next\n",
        "            temp.next = newNode\n",
        "\n",
        "    def push_at(self, newElement, position):\n",
        "        newNode = Node(newElement)\n",
        "        if (position < 1):\n",
        "            print(\"\\nposition should be >= 1.\")\n",
        "        elif (position == 1):\n",
        "            newNode.next = self.head\n",
        "            self.head = newNode\n",
        "        else:\n",
        "            temp = self.head\n",
        "            for i in range(1, position - 1):\n",
        "                if (temp != None):\n",
        "                    temp = temp.next\n",
        "            if (temp != None):\n",
        "                newNode.next = temp.next\n",
        "                temp.next = newNode\n",
        "            else:\n",
        "                print(\"\\nThe previous node is null.\")\n",
        "\n",
        "    def PrintList(self):\n",
        "        temp = self.head\n",
        "        if (temp != None):\n",
        "            print(\"The list contains:\", end=\" \")\n",
        "            while (temp != None):\n",
        "                print(temp.data, end=\" \")\n",
        "                temp = temp.next\n",
        "            print()\n",
        "        else:\n",
        "            print(\"The list is empty.\")\n",
        "\n",
        "\n",
        "MyList = LinkedList()\n",
        "\n",
        "MyList.push(40)\n",
        "MyList.push(20)\n",
        "MyList.push\n",
        "(50)\n",
        "MyList.PrintList()\n",
        "\n",
        "MyList.push_at(40, 3)\n",
        "MyList.PrintList()\n"
      ],
      "execution_count": null,
      "outputs": []
    }
  ]
}