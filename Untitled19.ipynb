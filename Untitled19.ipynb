{
  "nbformat": 4,
  "nbformat_minor": 0,
  "metadata": {
    "colab": {
      "name": "Untitled19.ipynb",
      "provenance": [],
      "authorship_tag": "ABX9TyMLahZY6wE83hTemjrByasF",
      "include_colab_link": true
    },
    "kernelspec": {
      "name": "python3",
      "display_name": "Python 3"
    },
    "language_info": {
      "name": "python"
    }
  },
  "cells": [
    {
      "cell_type": "markdown",
      "metadata": {
        "id": "view-in-github",
        "colab_type": "text"
      },
      "source": [
        "<a href=\"https://colab.research.google.com/github/AREEBA-FAROOQ2001/AREEBA-F/blob/main/Untitled19.ipynb\" target=\"_parent\"><img src=\"https://colab.research.google.com/assets/colab-badge.svg\" alt=\"Open In Colab\"/></a>"
      ]
    },
    {
      "cell_type": "code",
      "metadata": {
        "colab": {
          "base_uri": "https://localhost:8080/"
        },
        "id": "vqTKpj4P8jJw",
        "outputId": "100d79fd-4ba8-4b80-85d4-ab6dc1216da8"
      },
      "source": [
        "#AREEBA FAROOQ\n",
        "#REG NO:200901058\n",
        "#REVERSING LINKEDLIST\n",
        "#In this task first we will append data in doublylinkedlist format and after thar we will reverse that data\n",
        "\n",
        "\n",
        "#solution:\n",
        "#Represent node of double linkedlist\n",
        "class Node:\n",
        "    def __init__(self, data):\n",
        "        self.data = data\n",
        "        self.next = None\n",
        "        self.prev = None\n",
        "class DoublyLinkedList:\n",
        "    def __init__(self):\n",
        "        self.head = None\n",
        "#add data\n",
        "    def append(self, data):\n",
        "        if self.head is None:\n",
        "            new_node = Node(data)\n",
        "            new_node.prev = None\n",
        "            self.head = new_node\n",
        "        else:\n",
        "            new_node = Node(data)\n",
        "            cur = self.head\n",
        "            while cur.next:\n",
        "                cur = cur.next\n",
        "            cur.next = new_node\n",
        "            new_node.prev = cur\n",
        "            new_node.next = None\n",
        "#append\n",
        "    def append(self, data):\n",
        "        if self.head is None:\n",
        "            new_node = Node(data)\n",
        "            new_node.prev = None\n",
        "            self.head = new_node\n",
        "        else:\n",
        "            new_node = Node(data)\n",
        "            self.head.prev = new_node\n",
        "            new_node.next = self.head\n",
        "            self.head = new_node\n",
        "            new_node.prev = None\n",
        "\n",
        "    def print_list(self):\n",
        "        cur = self.head\n",
        "        while cur:\n",
        "            print(cur.data)\n",
        "            cur = cur.next\n",
        "\n",
        "    def append_right(self, key, data):\n",
        "        cur = self.head\n",
        "        while cur:\n",
        "            if cur.next is None and cur.data == key:\n",
        "                self.append(data)\n",
        "                return\n",
        "            elif cur.data == key:\n",
        "                new_node = Node(data)\n",
        "                nxt = cur.next\n",
        "                cur.next = new_node\n",
        "                new_node.next = nxt\n",
        "                new_node.prev = cur\n",
        "                nxt.prev = new_node\n",
        "            cur = cur.next\n",
        "#Reversing doubledlinkedlist\n",
        "    def reverse(self):\n",
        "        tmp = None\n",
        "        cur = self.head\n",
        "        while cur:\n",
        "            tmp = cur.prev\n",
        "            cur.prev = cur.next\n",
        "            cur.next = tmp\n",
        "            cur = cur.prev\n",
        "        if tmp:\n",
        "            self.head = tmp.prev\n",
        "#display\n",
        "dllist = DoublyLinkedList()\n",
        "dllist.append(1)\n",
        "dllist.append(2)\n",
        "dllist.append(3)\n",
        "dllist.append(4)\n",
        "\n",
        "dllist.print_list()\n",
        "print(\"Reverse Doublylinkedlist\")\n",
        "dllist.reverse()\n",
        "dllist.print_list()"
      ],
      "execution_count": 16,
      "outputs": [
        {
          "output_type": "stream",
          "name": "stdout",
          "text": [
            "4\n",
            "3\n",
            "2\n",
            "1\n",
            "Reverse Doublylinkedlist\n",
            "1\n",
            "2\n",
            "3\n",
            "4\n"
          ]
        }
      ]
    }
  ]
}